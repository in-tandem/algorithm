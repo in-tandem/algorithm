{
 "cells": [
  {
   "cell_type": "markdown",
   "metadata": {},
   "source": [
    "# Comparison for list operations using comprehension and multiprocessing\n",
    "\n",
    "\n",
    "### we would be comparing time taken for some random operation on HUGEEE lists"
   ]
  },
  {
   "cell_type": "code",
   "execution_count": 1,
   "metadata": {},
   "outputs": [],
   "source": [
    "import numpy as np\n",
    "from utilities import not_in\n",
    "from multiprocessing import Pool\n",
    "import itertools, time, datetime\n"
   ]
  },
  {
   "cell_type": "markdown",
   "metadata": {},
   "source": [
    "### First operation\n",
    "\n",
    "We will take two lists,say a and b. We want to create a third list c which has all elements of a which are not in b\n",
    "\n",
    "a very simple list comprehension way of doing it is : [i for i in a if i not in b]"
   ]
  },
  {
   "cell_type": "code",
   "execution_count": 2,
   "metadata": {},
   "outputs": [],
   "source": [
    "## our timer function\n",
    "\n",
    "class CodeTimer:\n",
    "    \n",
    "    \"\"\"\n",
    "        Utility custom contextual class for calculating the time \n",
    "        taken for a certain code block to execute\n",
    "    \n",
    "    \"\"\"\n",
    "    def __init__(self, name=None):\n",
    "        self.name = \" '\"  + name + \"'\" if name else ''\n",
    "\n",
    "    def __enter__(self):\n",
    "        self.start = time.clock()\n",
    "\n",
    "    def __exit__(self, exc_type, exc_value, traceback):\n",
    "        self.took = (time.clock() - self.start) * 1000.0\n",
    "        time_taken = datetime.timedelta(milliseconds = self.took)\n",
    "        print('Code block' + self.name + ' took(HH:MM:SS): ' + str(time_taken))\n",
    "\n"
   ]
  },
  {
   "cell_type": "code",
   "execution_count": 3,
   "metadata": {},
   "outputs": [
    {
     "name": "stdout",
     "output_type": "stream",
     "text": [
      "Code block 'list_comprehension' took(HH:MM:SS): 0:00:04.611375\n",
      "4611.374822791061\n"
     ]
    }
   ],
   "source": [
    "a = list(range(19800000)) \n",
    "b = [2,3,4]\n",
    "\n",
    "timer = CodeTimer('list_comprehension')\n",
    "\n",
    "with timer:\n",
    "    [i for i in a if i not in b]\n",
    "print(timer.took)\n",
    "    \n",
    "## we can see a list close to 19,800,000 is taking 4seconds. \n",
    "\n",
    "## remember we could be using setdiff1d method of numpy. bt that apparently works only for 1d arrays"
   ]
  },
  {
   "cell_type": "code",
   "execution_count": null,
   "metadata": {},
   "outputs": [],
   "source": [
    "## this is the not in function defined in utitlies.py / we had to do it this way, since thats what jupyter expects\n",
    "## else giving hell lot of not found in main module error\n",
    "# def not_in(array, another_array):\n",
    "#     return [i for i in array if i not in another_array]"
   ]
  },
  {
   "cell_type": "code",
   "execution_count": 14,
   "metadata": {},
   "outputs": [
    {
     "name": "stdout",
     "output_type": "stream",
     "text": [
      "Code block 'mp' took(HH:MM:SS): 0:00:07.302675\n",
      "7302.675143872022\n"
     ]
    }
   ],
   "source": [
    "## lets perform the same action using multiprocessing. we would chunk it into pieces and run those chunks in parallel\n",
    "\n",
    "\n",
    "if __name__ == '__main__':  \n",
    "\n",
    "#     a = list(range(19800000)) \n",
    "#     b = [2,3,4]\n",
    "\n",
    "\n",
    "    timer = CodeTimer('mp')\n",
    "    with timer:\n",
    "        final = [None]\n",
    "\n",
    "        with Pool(8) as p:\n",
    "\n",
    "            added = p.starmap(not_in, [(i.tolist(),b) for i in np.array_split(a,780)])\n",
    "        #     print(added)\n",
    "            final = np.concatenate((final,added[0] if len(added)>0 else [None]), axis=0)\n",
    "            # final.extend(p.starmap(not_in, [(i.tolist(),b) for i in np.array_split(a,2)]))\n",
    "\n",
    "    print(timer.took)\n"
   ]
  },
  {
   "cell_type": "markdown",
   "metadata": {},
   "source": [
    "#### what we are seeing consistently is that , the usual list comprehension defeats the multiprocessing way by ~3secs every time\n",
    "\n",
    "##### lets try a 2d array example"
   ]
  },
  {
   "cell_type": "code",
   "execution_count": 15,
   "metadata": {},
   "outputs": [
    {
     "name": "stdout",
     "output_type": "stream",
     "text": [
      "Code block 'list_comprehension' took(HH:MM:SS): 0:00:04.156448\n",
      "4156.447902278501\n"
     ]
    }
   ],
   "source": [
    "a = np.random.randint(1,100, (19800000,2))\n",
    "a = a.tolist()\n",
    "# a = [[22,2],[33,3],[44,4],[5,55]]\n",
    "a.append([11,22])\n",
    "a.append([22,31])\n",
    "\n",
    "b = [[11,22],[22,31],[22,22],[11,1]]\n",
    "\n",
    "\n",
    "\n",
    "timer = CodeTimer('list_comprehension')\n",
    "\n",
    "with timer:\n",
    "    [i for i in a if i not in b]\n",
    "print(timer.took)\n",
    "    "
   ]
  },
  {
   "cell_type": "code",
   "execution_count": 16,
   "metadata": {},
   "outputs": [
    {
     "name": "stdout",
     "output_type": "stream",
     "text": [
      "Code block 'mp' took(HH:MM:SS): 0:03:34.721808\n"
     ]
    },
    {
     "ename": "ValueError",
     "evalue": "all the input arrays must have same number of dimensions",
     "output_type": "error",
     "traceback": [
      "\u001b[1;31m---------------------------------------------------------------------------\u001b[0m",
      "\u001b[1;31mValueError\u001b[0m                                Traceback (most recent call last)",
      "\u001b[1;32m<ipython-input-16-782a4e451f94>\u001b[0m in \u001b[0;36m<module>\u001b[1;34m()\u001b[0m\n\u001b[0;32m     13\u001b[0m             \u001b[0madded\u001b[0m \u001b[1;33m=\u001b[0m \u001b[0mp\u001b[0m\u001b[1;33m.\u001b[0m\u001b[0mstarmap\u001b[0m\u001b[1;33m(\u001b[0m\u001b[0mnot_in\u001b[0m\u001b[1;33m,\u001b[0m \u001b[1;33m[\u001b[0m\u001b[1;33m(\u001b[0m\u001b[0mi\u001b[0m\u001b[1;33m.\u001b[0m\u001b[0mtolist\u001b[0m\u001b[1;33m(\u001b[0m\u001b[1;33m)\u001b[0m\u001b[1;33m,\u001b[0m\u001b[0mb\u001b[0m\u001b[1;33m)\u001b[0m \u001b[1;32mfor\u001b[0m \u001b[0mi\u001b[0m \u001b[1;32min\u001b[0m \u001b[0mnp\u001b[0m\u001b[1;33m.\u001b[0m\u001b[0marray_split\u001b[0m\u001b[1;33m(\u001b[0m\u001b[0ma\u001b[0m\u001b[1;33m,\u001b[0m\u001b[1;36m780\u001b[0m\u001b[1;33m)\u001b[0m\u001b[1;33m]\u001b[0m\u001b[1;33m)\u001b[0m\u001b[1;33m\u001b[0m\u001b[0m\n\u001b[0;32m     14\u001b[0m         \u001b[1;31m#     print(added)\u001b[0m\u001b[1;33m\u001b[0m\u001b[1;33m\u001b[0m\u001b[0m\n\u001b[1;32m---> 15\u001b[1;33m             \u001b[0mfinal\u001b[0m \u001b[1;33m=\u001b[0m \u001b[0mnp\u001b[0m\u001b[1;33m.\u001b[0m\u001b[0mconcatenate\u001b[0m\u001b[1;33m(\u001b[0m\u001b[1;33m(\u001b[0m\u001b[0mfinal\u001b[0m\u001b[1;33m,\u001b[0m\u001b[0madded\u001b[0m\u001b[1;33m[\u001b[0m\u001b[1;36m0\u001b[0m\u001b[1;33m]\u001b[0m \u001b[1;32mif\u001b[0m \u001b[0mlen\u001b[0m\u001b[1;33m(\u001b[0m\u001b[0madded\u001b[0m\u001b[1;33m)\u001b[0m\u001b[1;33m>\u001b[0m\u001b[1;36m0\u001b[0m \u001b[1;32melse\u001b[0m \u001b[1;33m[\u001b[0m\u001b[1;36m0\u001b[0m\u001b[1;33m,\u001b[0m\u001b[1;36m0\u001b[0m\u001b[1;33m]\u001b[0m\u001b[1;33m)\u001b[0m\u001b[1;33m,\u001b[0m \u001b[0maxis\u001b[0m\u001b[1;33m=\u001b[0m\u001b[1;36m0\u001b[0m\u001b[1;33m)\u001b[0m\u001b[1;33m\u001b[0m\u001b[0m\n\u001b[0m\u001b[0;32m     16\u001b[0m             \u001b[1;31m# final.extend(p.starmap(not_in, [(i.tolist(),b) for i in np.array_split(a,2)]))\u001b[0m\u001b[1;33m\u001b[0m\u001b[1;33m\u001b[0m\u001b[0m\n\u001b[0;32m     17\u001b[0m \u001b[1;33m\u001b[0m\u001b[0m\n",
      "\u001b[1;31mValueError\u001b[0m: all the input arrays must have same number of dimensions"
     ]
    }
   ],
   "source": [
    "if __name__ == '__main__':  \n",
    "\n",
    "#     a = list(range(19800000)) \n",
    "#     b = [2,3,4]\n",
    "\n",
    "\n",
    "    timer = CodeTimer('mp')\n",
    "    with timer:\n",
    "        final = [0,0]\n",
    "\n",
    "        with Pool(8) as p:\n",
    "\n",
    "            added = p.starmap(not_in, [(i.tolist(),b) for i in np.array_split(a,780)])\n",
    "        #     print(added)\n",
    "            final = np.concatenate((final,added[0] if len(added)>0 else [0,0]), axis=0)\n",
    "            # final.extend(p.starmap(not_in, [(i.tolist(),b) for i in np.array_split(a,2)]))\n",
    "\n",
    "    print(timer.took)"
   ]
  }
 ],
 "metadata": {
  "kernelspec": {
   "display_name": "Python 3",
   "language": "python",
   "name": "python3"
  },
  "language_info": {
   "codemirror_mode": {
    "name": "ipython",
    "version": 3
   },
   "file_extension": ".py",
   "mimetype": "text/x-python",
   "name": "python",
   "nbconvert_exporter": "python",
   "pygments_lexer": "ipython3",
   "version": "3.6.5"
  }
 },
 "nbformat": 4,
 "nbformat_minor": 2
}
